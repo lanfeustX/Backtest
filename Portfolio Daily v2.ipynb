{
 "cells": [
  {
   "cell_type": "code",
   "execution_count": null,
   "metadata": {},
   "outputs": [],
   "source": [
    "import pandas as pd\n",
    "import numpy as np\n",
    "\n",
    "def calculate_fx_forward_pnl(portfolio_data):\n",
    "    \"\"\"\n",
    "    Calculates the P&L of a portfolio of FX forward positions.\n",
    "\n",
    "    Args:\n",
    "        portfolio_data (pd.DataFrame): A DataFrame containing the following columns:\n",
    "            - 'currency': Currency pair (e.g., 'USDJPY').\n",
    "            - 'initial_spot': Initial spot rate at contract inception.\n",
    "            - 'forward_rate': Forward rate agreed upon at contract inception.\n",
    "            - 'contract_size': Contract size (amount of the base currency being bought/sold).\n",
    "            - 'valuation_date': Valuation date (date at which P&L is calculated).\n",
    "            - 'settlement_date': Settlement date of the forward contract.\n",
    "            - 'spot_rate': Current spot rate on the valuation date.\n",
    "            - 'discount_factor': Discount factor for the valuation date and settlement date.\n",
    "\n",
    "    Returns:\n",
    "        pd.DataFrame: A DataFrame with the following columns:\n",
    "            - 'currency': Currency pair.\n",
    "            - 'pnl': P&L of the FX forward position.\n",
    "            - 'relative_pnl': P&L normalized by the sum of absolute P&L across all positions.\n",
    "    \"\"\"\n",
    "\n",
    "    # Calculate P&L for each position\n",
    "    portfolio_data['pnl'] = (portfolio_data['spot_rate'] - portfolio_data['forward_rate']) * \\\n",
    "                           portfolio_data['contract_size'] * portfolio_data['discount_factor']\n",
    "\n",
    "    # Calculate total absolute P&L across all positions\n",
    "    total_absolute_pnl = portfolio_data['pnl'].abs().sum()\n",
    "\n",
    "    # Calculate relative P&L for each position\n",
    "    portfolio_data['relative_pnl'] = portfolio_data['pnl'] / total_absolute_pnl\n",
    "\n",
    "    return portfolio_data[['currency', 'pnl', 'relative_pnl']]\n",
    "\n",
    "# Example usage:\n",
    "# Assuming you have a DataFrame named 'fx_portfolio' with the required columns\n",
    "# as described in the function docstring\n",
    "\n",
    "pnl_results = calculate_fx_forward_pnl(fx_portfolio)\n",
    "print(pnl_results)"
   ]
  }
 ],
 "metadata": {
  "interpreter": {
   "hash": "9b1ae10eef1dd211dd334d27d4410d8edd672406c176deb347214f996b7e46a9"
  },
  "kernelspec": {
   "display_name": "Python 3.10.1 64-bit (system)",
   "language": "python",
   "name": "python3"
  },
  "language_info": {
   "name": "python",
   "version": "3.10.1"
  },
  "orig_nbformat": 4
 },
 "nbformat": 4,
 "nbformat_minor": 2
}
